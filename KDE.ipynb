{
  "nbformat": 4,
  "nbformat_minor": 0,
  "metadata": {
    "colab": {
      "name": "KDE.ipynb",
      "provenance": [],
      "collapsed_sections": [],
      "authorship_tag": "ABX9TyNhJS1yp1gX9VXLKq1KLi2+",
      "include_colab_link": true
    },
    "kernelspec": {
      "name": "python3",
      "display_name": "Python 3"
    },
    "language_info": {
      "name": "python"
    }
  },
  "cells": [
    {
      "cell_type": "markdown",
      "metadata": {
        "id": "view-in-github",
        "colab_type": "text"
      },
      "source": [
        "<a href=\"https://colab.research.google.com/github/shilpa2503/Business-process-intelligence_2021/blob/main/KDE.ipynb\" target=\"_parent\"><img src=\"https://colab.research.google.com/assets/colab-badge.svg\" alt=\"Open In Colab\"/></a>"
      ]
    },
    {
      "cell_type": "code",
      "execution_count": 26,
      "metadata": {
        "colab": {
          "base_uri": "https://localhost:8080/"
        },
        "id": "CZFnnOXXhpb6",
        "outputId": "9b93af4c-6eca-4c99-e27d-37e29866b76c"
      },
      "outputs": [
        {
          "output_type": "stream",
          "name": "stdout",
          "text": [
            "Question: Kernel/K-Nearest Neighborhood Density Estimators\n"
          ]
        }
      ],
      "source": [
        "import numpy as np\n",
        "import matplotlib.pyplot as plt\n",
        "print('Question: Kernel/K-Nearest Neighborhood Density Estimators')"
      ]
    },
    {
      "cell_type": "code",
      "source": [
        "def parameters():\n",
        "    h = 0.3  # kde windowsize / radius\n",
        "    return h"
      ],
      "metadata": {
        "id": "HnnNbxowjx71"
      },
      "execution_count": 47,
      "outputs": []
    },
    {
      "cell_type": "code",
      "source": [
        "h = parameters()"
      ],
      "metadata": {
        "id": "LloGWWd2jwpP"
      },
      "execution_count": 48,
      "outputs": []
    },
    {
      "cell_type": "code",
      "source": [
        "def gauss1D(m, v, N, w):\n",
        "    pos = np.arange(-w, w - w / N, 2 * w / N)\n",
        "    insE = -0.5 * ((pos - m) / v) ** 2\n",
        "    norm = 1 / (v * np.sqrt(2 * np.pi))\n",
        "    res = norm * np.exp(insE)\n",
        "    realDensity = np.stack((pos, res), axis=1)\n",
        "    return realDensity\n",
        "  "
      ],
      "metadata": {
        "id": "AlQoYjFViAZ2"
      },
      "execution_count": 29,
      "outputs": []
    },
    {
      "cell_type": "code",
      "source": [
        "def kde(samples, h):\n",
        "    # compute density estimation from samples with KDE\n",
        "    # Input\n",
        "    #  samples    : DxN matrix of data points\n",
        "    #  h          : (half) window size/radius of kernel\n",
        "    # Output\n",
        "    #  estDensity : estimated density in the range of [-5,5]\n",
        "\n",
        "    #####Start Subtask 5a#####\n",
        "    # Compute the number of samples created\n",
        "    D = 1\n",
        "    N =len(samples)\n",
        "        \n",
        "    exp_tae = np.exp(-(pos[np.newaxis, :] - samples[:, np.newaxis]) ** 2 / (2 * h ** 2))\n",
        "    norm = np.sqrt(2 * np.pi)* h * N\n",
        "    res = np.sum(exp_tae,axis=0)/norm\n",
        "\n",
        "    estDensity = np.stack((pos,res),axis = 1)\n",
        "\n",
        "    #####End Subtask#####\n",
        "    return estDensity"
      ],
      "metadata": {
        "id": "DJfF6gunjj5k"
      },
      "execution_count": 56,
      "outputs": []
    },
    {
      "cell_type": "code",
      "source": [
        "samples = np.random.normal(0, 1, 100)\n",
        "len(samples)"
      ],
      "metadata": {
        "colab": {
          "base_uri": "https://localhost:8080/"
        },
        "id": "RGCoF850hrSR",
        "outputId": "9b83d6d0-ba21-47a4-e592-2c671fc0f888"
      },
      "execution_count": 57,
      "outputs": [
        {
          "output_type": "execute_result",
          "data": {
            "text/plain": [
              "100"
            ]
          },
          "metadata": {},
          "execution_count": 57
        }
      ]
    },
    {
      "cell_type": "code",
      "source": [
        "realDensity = gauss1D(0, 1, 100, 5)\n",
        "estDensity = kde(samples, h)"
      ],
      "metadata": {
        "id": "4IqWMwV_kxnm"
      },
      "execution_count": 58,
      "outputs": []
    },
    {
      "cell_type": "code",
      "source": [
        "plt.subplot(2, 1, 1)\n",
        "plt.plot(estDensity[:, 0], estDensity[:, 1], 'r', linewidth=1.5, label='kde Distribution')\n",
        "plt.plot(realDensity[:, 0], realDensity[:, 1], 'b', linewidth=1.5, label='Real Distribution')\n",
        "plt.legend()\n",
        "plt.show()"
      ],
      "metadata": {
        "colab": {
          "base_uri": "https://localhost:8080/",
          "height": 147
        },
        "id": "rell3DFsh3IJ",
        "outputId": "44376382-67ab-49c1-e2a9-14d3816f7d8b"
      },
      "execution_count": 59,
      "outputs": [
        {
          "output_type": "display_data",
          "data": {
            "text/plain": [
              "<Figure size 432x288 with 1 Axes>"
            ],
            "image/png": "[encoded data removed]"
          },
          "metadata": {
            "needs_background": "light"
          }
        }
      ]
    },
    {
      "cell_type": "code",
      "source": [
        "pos = np.arange(-5, 5.0, 0.1)\n",
        "print(pos.shape)"
      ],
      "metadata": {
        "colab": {
          "base_uri": "https://localhost:8080/"
        },
        "id": "oxwM-hNCiLYw",
        "outputId": "1deda16d-d544-4d89-ab22-64e446bac709"
      },
      "execution_count": 35,
      "outputs": [
        {
          "output_type": "stream",
          "name": "stdout",
          "text": [
            "(100,)\n"
          ]
        }
      ]
    },
    {
      "cell_type": "code",
      "source": [
        "a = np.array([1, 2, 3])\n",
        "b = np.array([4, 5, 6])\n",
        "np.stack((a,b),axis=1)"
      ],
      "metadata": {
        "colab": {
          "base_uri": "https://localhost:8080/"
        },
        "id": "Km-y5MSFnxb3",
        "outputId": "b5a10216-88e9-481b-b802-7dc86a0d8c4d"
      },
      "execution_count": 42,
      "outputs": [
        {
          "output_type": "execute_result",
          "data": {
            "text/plain": [
              "array([[1, 4],\n",
              "       [2, 5],\n",
              "       [3, 6]])"
            ]
          },
          "metadata": {},
          "execution_count": 42
        }
      ]
    },
    {
      "cell_type": "code",
      "source": [
        ""
      ],
      "metadata": {
        "id": "n4krQhoMpKlT"
      },
      "execution_count": null,
      "outputs": []
    }
  ]
}